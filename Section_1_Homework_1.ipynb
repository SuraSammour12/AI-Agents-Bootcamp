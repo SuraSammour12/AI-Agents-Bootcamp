{
  "nbformat": 4,
  "nbformat_minor": 0,
  "metadata": {
    "colab": {
      "provenance": []
    },
    "kernelspec": {
      "name": "python3",
      "display_name": "Python 3"
    },
    "language_info": {
      "name": "python"
    }
  },
  "cells": [
    {
      "cell_type": "code",
      "execution_count": 1,
      "metadata": {
        "colab": {
          "base_uri": "https://localhost:8080/"
        },
        "id": "8hxXuEuDbueA",
        "outputId": "0d10ea0d-ac59-416c-d292-c6d8610e7a8c"
      },
      "outputs": [
        {
          "output_type": "stream",
          "name": "stdout",
          "text": [
            "Enter a list of numbers separated by spaces: 2 3 6 8 10\n",
            "\n",
            "--- Results ---\n",
            "List of numbers: [2, 3, 6, 8, 10]\n",
            "Dictionary (number: frequency): {2: 1, 3: 1, 6: 1, 8: 1, 10: 1}\n",
            "Sum: 29\n",
            "Average: 5.8\n",
            "Maximum: 10\n",
            "Minimum: 2\n"
          ]
        }
      ],
      "source": [
        "# 📝 Homework 1: Assessment Homework for Week 1\n",
        "# -------------------------------------------------------\n",
        "# Purpose:\n",
        "# This script takes user input of numbers, stores them in both\n",
        "# a List and a Dictionary, and performs basic statistical\n",
        "# operations: sum, average, maximum, and minimum.\n",
        "# -------------------------------------------------------\n",
        "\n",
        "# Step 1: Take user input\n",
        "# The user will enter numbers separated by spaces\n",
        "numbers_input = input(\"Enter a list of numbers separated by spaces: \")\n",
        "\n",
        "# Step 2: Convert input string into a list of integers\n",
        "numbers_list = [int(num) for num in numbers_input.split()]\n",
        "\n",
        "# Step 3: Create a dictionary with number frequencies\n",
        "numbers_dict = {}\n",
        "for num in numbers_list:\n",
        "    if num in numbers_dict:\n",
        "        numbers_dict[num] += 1\n",
        "    else:\n",
        "        numbers_dict[num] = 1\n",
        "\n",
        "# Step 4: Perform basic statistical operations\n",
        "total_sum = sum(numbers_list)                     # Calculate sum\n",
        "average = total_sum / len(numbers_list)           # Calculate average\n",
        "maximum = max(numbers_list)                       # Find maximum value\n",
        "minimum = min(numbers_list)                       # Find minimum value\n",
        "\n",
        "# Step 5: Print results\n",
        "print(\"\\n--- Results ---\")\n",
        "print(\"List of numbers:\", numbers_list)\n",
        "print(\"Dictionary (number: frequency):\", numbers_dict)\n",
        "print(\"Sum:\", total_sum)\n",
        "print(\"Average:\", average)\n",
        "print(\"Maximum:\", maximum)\n",
        "print(\"Minimum:\", minimum)\n"
      ]
    }
  ]
}